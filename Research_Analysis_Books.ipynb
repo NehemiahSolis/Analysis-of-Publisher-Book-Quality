{
  "nbformat": 4,
  "nbformat_minor": 0,
  "metadata": {
    "colab": {
      "name": "Research Analysis - Books.ipynb",
      "provenance": [],
      "collapsed_sections": [
        "o3vWpcMX33dA",
        "dKHDUBfH7n3e",
        "OLi1Lk189UQ-",
        "uw9UnOAcQO_v",
        "u4_gguPwjxeR",
        "TyMYX5RZk84T"
      ]
    },
    "kernelspec": {
      "name": "python3",
      "display_name": "Python 3"
    }
  },
  "cells": [
    {
      "cell_type": "markdown",
      "metadata": {
        "id": "o3vWpcMX33dA",
        "colab_type": "text"
      },
      "source": [
        "#Introduction"
      ]
    },
    {
      "cell_type": "markdown",
      "metadata": {
        "id": "892U9w4O3839",
        "colab_type": "text"
      },
      "source": [
        "Since the first Babylonian law codes, to the birth of the printing press, and until today, writing information down has been an important facet of the human experience. In our society, we have the great advantage of reading for pleasure, knowledge, and work, with a vast amount of options. \n",
        "\n",
        "With this in mind, we will be looking at a dataset compiled by kaggle user Soumik and comparing the quality of books published by certain publishers. We would like to see if there are any significant differences in book quality between different publishers.\n",
        "\n",
        "Although Soumik's dataset contains numerous unique publishers, we will be focusing on the largest three, as that will both streamline our research and provide a sufficient amount of data."
      ]
    },
    {
      "cell_type": "markdown",
      "metadata": {
        "id": "dKHDUBfH7n3e",
        "colab_type": "text"
      },
      "source": [
        "#Hypothesis"
      ]
    },
    {
      "cell_type": "markdown",
      "metadata": {
        "id": "4doxvgjy7qeQ",
        "colab_type": "text"
      },
      "source": [
        "1. Null Hypothesis: There is no significant difference between the average ratings of books published by unique publishers.\n",
        "\n",
        "2. Alternate Hypothesis: There is a significant difference between the average ratings of books published by unique publishers."
      ]
    },
    {
      "cell_type": "markdown",
      "metadata": {
        "id": "OLi1Lk189UQ-",
        "colab_type": "text"
      },
      "source": [
        "#Data"
      ]
    },
    {
      "cell_type": "markdown",
      "metadata": {
        "id": "nS_KMulP-Lsw",
        "colab_type": "text"
      },
      "source": [
        "The data comes from [Kaggle](https://www.kaggle.com/jealousleopard/goodreadsbooks) and contains 10,352 unique book titles and 12 columns of information: bookID, title, authors, average rating, isbn, isbn13, language, number of pages, number of ratings, number of text reviews, publication date, and publisher. \n",
        "\n",
        "There are a few lines that are corrupted, so we will be ignoring those for this experiment. "
      ]
    },
    {
      "cell_type": "code",
      "metadata": {
        "id": "UxgAh_067KPt",
        "colab_type": "code",
        "colab": {
          "base_uri": "https://localhost:8080/",
          "height": 649
        },
        "outputId": "c4d29c3e-4b01-46c9-9ee4-125f701f8cce"
      },
      "source": [
        "# Here we set up the enviroment\n",
        "\n",
        "%matplotlib inline\n",
        "import math\n",
        "import pandas as pd\n",
        "import numpy as np\n",
        "import seaborn as sns\n",
        "from matplotlib import pyplot as plt\n",
        "from scipy import stats\n",
        "\n",
        "PATH = 'https://raw.githubusercontent.com/NehemiahSolis/books_for_research_proposal/master/books.csv'\n",
        "books = pd.read_csv(PATH, error_bad_lines = False)\n",
        "books.info()\n",
        "books.head()\n",
        "\n",
        "# Count books by publisher\n",
        "\n",
        "publishers = books.groupby('publisher').size().sort_values().reset_index(name='count').sort_values(['count'], ascending=False)\n",
        "print(publishers)\n"
      ],
      "execution_count": null,
      "outputs": [
        {
          "output_type": "stream",
          "text": [
            "/usr/local/lib/python3.6/dist-packages/statsmodels/tools/_testing.py:19: FutureWarning: pandas.util.testing is deprecated. Use the functions in the public API at pandas.testing instead.\n",
            "  import pandas.util.testing as tm\n"
          ],
          "name": "stderr"
        },
        {
          "output_type": "stream",
          "text": [
            "<class 'pandas.core.frame.DataFrame'>\n",
            "RangeIndex: 11123 entries, 0 to 11122\n",
            "Data columns (total 12 columns):\n",
            " #   Column              Non-Null Count  Dtype  \n",
            "---  ------              --------------  -----  \n",
            " 0   bookID              11123 non-null  int64  \n",
            " 1   title               11123 non-null  object \n",
            " 2   authors             11123 non-null  object \n",
            " 3   average_rating      11123 non-null  float64\n",
            " 4   isbn                11123 non-null  object \n",
            " 5   isbn13              11123 non-null  int64  \n",
            " 6   language_code       11123 non-null  object \n",
            " 7     num_pages         11123 non-null  int64  \n",
            " 8   ratings_count       11123 non-null  int64  \n",
            " 9   text_reviews_count  11123 non-null  int64  \n",
            " 10  publication_date    11123 non-null  object \n",
            " 11  publisher           11123 non-null  object \n",
            "dtypes: float64(1), int64(5), object(6)\n",
            "memory usage: 1.0+ MB\n",
            "                 publisher  count\n",
            "2289               Vintage    318\n",
            "2288         Penguin Books    261\n",
            "2287      Penguin Classics    184\n",
            "2286         Mariner Books    150\n",
            "2285      Ballantine Books    144\n",
            "...                    ...    ...\n",
            "757                Vivendi      1\n",
            "756   Barnes & Noble Books      1\n",
            "755           Vision Forum      1\n",
            "754          Baronet Books      1\n",
            "1145       Diogenes Verlag      1\n",
            "\n",
            "[2290 rows x 2 columns]\n"
          ],
          "name": "stdout"
        },
        {
          "output_type": "stream",
          "text": [
            "b'Skipping line 3350: expected 12 fields, saw 13\\nSkipping line 4704: expected 12 fields, saw 13\\nSkipping line 5879: expected 12 fields, saw 13\\nSkipping line 8981: expected 12 fields, saw 13\\n'\n"
          ],
          "name": "stderr"
        }
      ]
    },
    {
      "cell_type": "code",
      "metadata": {
        "id": "sznJTNsxHiP3",
        "colab_type": "code",
        "colab": {
          "base_uri": "https://localhost:8080/",
          "height": 483
        },
        "outputId": "8e221f3c-1fe0-48e8-fb75-4a4ffef99416"
      },
      "source": [
        "# To further make sense of all these publishers, we can perform a univariate analysis\n",
        "\n",
        "# First, we check the measures of central tendencies.\n",
        "\n",
        "print(publishers.describe())\n",
        "sns.distplot(publishers['count'])\n",
        "print()\n",
        "print('Skewness: %f' % publishers['count'].skew())\n",
        "print('Kurtosis: %f' % publishers['count'].kurt())\n"
      ],
      "execution_count": null,
      "outputs": [
        {
          "output_type": "stream",
          "text": [
            "             count\n",
            "count  2290.000000\n",
            "mean      4.857205\n",
            "std      14.293135\n",
            "min       1.000000\n",
            "25%       1.000000\n",
            "50%       1.000000\n",
            "75%       3.000000\n",
            "max     318.000000\n",
            "\n",
            "Skewness: 10.776925\n",
            "Kurtosis: 173.064159\n"
          ],
          "name": "stdout"
        },
        {
          "output_type": "display_data",
          "data": {
            "image/png": "[encoded data removed]",
            "text/plain": [
              "<Figure size 432x288 with 1 Axes>"
            ]
          },
          "metadata": {
            "tags": [],
            "needs_background": "light"
          }
        }
      ]
    },
    {
      "cell_type": "markdown",
      "metadata": {
        "id": "a-_2LUq9H-g9",
        "colab_type": "text"
      },
      "source": [
        "Here, we see that the data is heavily skewed in favor of low count book publishers. We will need to clean this up in order for it to be usable. For one, the standard deviation is much too high (14.2) for the median only being 1. Publishers only publishing one to twenty books is also irrelevant for this experiment, so we can raise the minimum number of books published. I've settled on 40 books for the minimum since that gives us a good distribution set without cutting away too much of the data, with an acceptable kurtosis and skewness. It will also allow for ease of data visualization.\n"
      ]
    },
    {
      "cell_type": "code",
      "metadata": {
        "id": "BLKtC0NCJlCh",
        "colab_type": "code",
        "colab": {
          "base_uri": "https://localhost:8080/",
          "height": 483
        },
        "outputId": "ae352eb5-b184-4f47-fa9f-303cf57c2e81"
      },
      "source": [
        "new_publishers = publishers.loc[publishers['count'] > 40]\n",
        "print(new_publishers.describe())\n",
        "\n",
        "sns.distplot(new_publishers['count'])\n",
        "print()\n",
        "print('Skewness: %f' % new_publishers['count'].skew())\n",
        "print('Kurtosis: %f' % new_publishers['count'].kurt())\n"
      ],
      "execution_count": null,
      "outputs": [
        {
          "output_type": "stream",
          "text": [
            "            count\n",
            "count   45.000000\n",
            "mean    80.377778\n",
            "std     55.911573\n",
            "min     41.000000\n",
            "25%     48.000000\n",
            "50%     65.000000\n",
            "75%     85.000000\n",
            "max    318.000000\n",
            "\n",
            "Skewness: 2.762071\n",
            "Kurtosis: 8.621089\n"
          ],
          "name": "stdout"
        },
        {
          "output_type": "display_data",
          "data": {
            "image/png": "[encoded data removed]",
            "text/plain": [
              "<Figure size 432x288 with 1 Axes>"
            ]
          },
          "metadata": {
            "tags": [],
            "needs_background": "light"
          }
        }
      ]
    },
    {
      "cell_type": "code",
      "metadata": {
        "id": "uTUW0Ai_a3Mk",
        "colab_type": "code",
        "colab": {
          "base_uri": "https://localhost:8080/",
          "height": 799
        },
        "outputId": "808ffc9f-3233-4ae3-c290-202c6aba06fc"
      },
      "source": [
        "# The new set of publishers we can use for our experiment is ranked below.\n",
        "\n",
        "print(new_publishers)\n"
      ],
      "execution_count": null,
      "outputs": [
        {
          "output_type": "stream",
          "text": [
            "                         publisher  count\n",
            "2289                       Vintage    318\n",
            "2288                 Penguin Books    261\n",
            "2287              Penguin Classics    184\n",
            "2286                 Mariner Books    150\n",
            "2285              Ballantine Books    144\n",
            "2284              Harper Perennial    112\n",
            "2283                 HarperCollins    112\n",
            "2282                  Pocket Books    111\n",
            "2281                        Bantam    110\n",
            "2280                 VIZ Media LLC     88\n",
            "2279                       Berkley     86\n",
            "2278            Dover Publications     85\n",
            "2277                Modern Library     82\n",
            "2276                       Del Rey     80\n",
            "2275                     Tor Books     76\n",
            "2274      Grand Central Publishing     76\n",
            "2273  Oxford University Press  USA     75\n",
            "2272                      Scribner     73\n",
            "2271       Oxford University Press     73\n",
            "2270         W. W. Norton  Company     68\n",
            "2269                        Signet     66\n",
            "2268    Cambridge University Press     66\n",
            "2267               Simon  Schuster     65\n",
            "2266                        Anchor     62\n",
            "2265                       Penguin     58\n",
            "2264     William Morrow Paperbacks     58\n",
            "2262                          Avon     56\n",
            "2263         Scholastic Paperbacks     56\n",
            "2261            Library of America     52\n",
            "2260                  Puffin Books     50\n",
            "2259                Broadway Books     49\n",
            "2258      HarperCollins Publishers     48\n",
            "2257                   HarperTorch     48\n",
            "2256                  Bantam Books     48\n",
            "2255               Harry N. Abrams     45\n",
            "2253              Simon & Schuster     44\n",
            "2254            St. Martin's Press     44\n",
            "2250                   Basic Books     43\n",
            "2249                 Berkley Books     43\n",
            "2251        W. W. Norton & Company     43\n",
            "2252          St. Martin's Griffin     43\n",
            "2248                       Vertigo     42\n",
            "2247   University of Chicago Press     42\n",
            "2246                           DAW     41\n",
            "2245     Farrar  Straus and Giroux     41\n"
          ],
          "name": "stdout"
        }
      ]
    },
    {
      "cell_type": "markdown",
      "metadata": {
        "id": "Z6_j7l0Wfi9x",
        "colab_type": "text"
      },
      "source": [
        "From here, our data has been cleaned up significantly. Many of these publishers listed are actually subsidiaries of a larger parent company. After doing some research, I found that the majority are Penguin Random House books, with a handful being books from Simon & Schuster and HarperCollins. The rest were from small publishing companies."
      ]
    },
    {
      "cell_type": "markdown",
      "metadata": {
        "id": "uw9UnOAcQO_v",
        "colab_type": "text"
      },
      "source": [
        "#Methods"
      ]
    },
    {
      "cell_type": "markdown",
      "metadata": {
        "id": "JZHzdoDLVyjM",
        "colab_type": "text"
      },
      "source": [
        "For this analysis, I will be creating three DataFrames, one for each publishing parent company: Penguin Random House, Simon & Schuster, and HarperCollins. Many books have been published by subsidiaries of a parent company, so combining a few subsidiaries under one parent company will allow for a more stable and holistic result, reducing the amount of groups and increasing the sample size for each group. I researched the top publishers in the list, and determined the parent companies:\n",
        "\n",
        "In the Penguin Random House (PRH) group, I will include: Vintage, Penguin Books, Penguin Classics, Ballantine Books, and Bantam\n",
        "\n",
        "In the Simon & Schuster (SAS) group, I will include: Pocket Books, Scribner, Simon Schuster, and Simon & Schuster\n",
        "\n",
        "In the HarperCollins (HC) group, I will include: Harper Perennial, HarperCollins, HaperCollins Publishers, HarperTorch, and Harper"
      ]
    },
    {
      "cell_type": "code",
      "metadata": {
        "id": "4Jn7Ym8BAbOM",
        "colab_type": "code",
        "colab": {
          "base_uri": "https://localhost:8080/",
          "height": 1000
        },
        "outputId": "89faa50b-8b7f-4553-8068-31db9d2996c8"
      },
      "source": [
        "# Splitting up the dataset and adding a new parent company column\n",
        "\n",
        "# Penguin Random House\n",
        "\n",
        "PRH = books[books['publisher'].isin(['Vintage', 'Penguin Books', 'Penguin Classics', 'Ballantine Books', 'Bantam'])]\n",
        "parent_company_PRH = []\n",
        "for value in PRH['publisher']:\n",
        "  if value == 'Vintage':\n",
        "    parent_company_PRH.append('Penguin Random House')\n",
        "  else:\n",
        "    parent_company_PRH.append('Penguin Random House')\n",
        "\n",
        "PRH['parent company'] = parent_company_PRH\n",
        "\n",
        "# Simon & Schuster\n",
        "\n",
        "SAS = books[books['publisher'].isin(['Pocket Books', 'Scribner', 'Simon Schuster', 'Simon & Schuster'])]\n",
        "parent_company_SAS = []\n",
        "for value in SAS['publisher']:\n",
        "  if value == 'Pocket Books':\n",
        "    parent_company_SAS.append('Simon & Schuster')\n",
        "  else:\n",
        "    parent_company_SAS.append('Simon & Schuster')\n",
        "\n",
        "SAS['parent company'] = parent_company_SAS\n",
        "\n",
        "# HarperCollins\n",
        "\n",
        "HC = books[books['publisher'].isin(['Harper Perennial', 'HarperCollins', 'HarperCollins Publishers', 'HarperTorch', 'Harper'])]\n",
        "parent_company_HC = []\n",
        "for value in HC['publisher']:\n",
        "  if value == 'Harper Perennial':\n",
        "    parent_company_HC.append('HarperCollins')\n",
        "  else:\n",
        "    parent_company_HC.append('HarperCollins')\n",
        "\n",
        "HC['parent company'] = parent_company_HC\n",
        "\n",
        "\n",
        "\n",
        "print(PRH.info())\n",
        "print(SAS.info())\n",
        "print(HC.info())"
      ],
      "execution_count": null,
      "outputs": [
        {
          "output_type": "stream",
          "text": [
            "<class 'pandas.core.frame.DataFrame'>\n",
            "Int64Index: 1017 entries, 21 to 11120\n",
            "Data columns (total 13 columns):\n",
            " #   Column              Non-Null Count  Dtype  \n",
            "---  ------              --------------  -----  \n",
            " 0   bookID              1017 non-null   int64  \n",
            " 1   title               1017 non-null   object \n",
            " 2   authors             1017 non-null   object \n",
            " 3   average_rating      1017 non-null   float64\n",
            " 4   isbn                1017 non-null   object \n",
            " 5   isbn13              1017 non-null   int64  \n",
            " 6   language_code       1017 non-null   object \n",
            " 7     num_pages         1017 non-null   int64  \n",
            " 8   ratings_count       1017 non-null   int64  \n",
            " 9   text_reviews_count  1017 non-null   int64  \n",
            " 10  publication_date    1017 non-null   object \n",
            " 11  publisher           1017 non-null   object \n",
            " 12  parent company      1017 non-null   object \n",
            "dtypes: float64(1), int64(5), object(7)\n",
            "memory usage: 111.2+ KB\n",
            "None\n",
            "<class 'pandas.core.frame.DataFrame'>\n",
            "Int64Index: 232 entries, 101 to 11097\n",
            "Data columns (total 13 columns):\n",
            " #   Column              Non-Null Count  Dtype  \n",
            "---  ------              --------------  -----  \n",
            " 0   bookID              232 non-null    int64  \n",
            " 1   title               232 non-null    object \n",
            " 2   authors             232 non-null    object \n",
            " 3   average_rating      232 non-null    float64\n",
            " 4   isbn                232 non-null    object \n",
            " 5   isbn13              232 non-null    int64  \n",
            " 6   language_code       232 non-null    object \n",
            " 7     num_pages         232 non-null    int64  \n",
            " 8   ratings_count       232 non-null    int64  \n",
            " 9   text_reviews_count  232 non-null    int64  \n",
            " 10  publication_date    232 non-null    object \n",
            " 11  publisher           232 non-null    object \n",
            " 12  parent company      232 non-null    object \n",
            "dtypes: float64(1), int64(5), object(7)\n",
            "memory usage: 25.4+ KB\n",
            "None\n",
            "<class 'pandas.core.frame.DataFrame'>\n",
            "Int64Index: 360 entries, 41 to 11004\n",
            "Data columns (total 13 columns):\n",
            " #   Column              Non-Null Count  Dtype  \n",
            "---  ------              --------------  -----  \n",
            " 0   bookID              360 non-null    int64  \n",
            " 1   title               360 non-null    object \n",
            " 2   authors             360 non-null    object \n",
            " 3   average_rating      360 non-null    float64\n",
            " 4   isbn                360 non-null    object \n",
            " 5   isbn13              360 non-null    int64  \n",
            " 6   language_code       360 non-null    object \n",
            " 7     num_pages         360 non-null    int64  \n",
            " 8   ratings_count       360 non-null    int64  \n",
            " 9   text_reviews_count  360 non-null    int64  \n",
            " 10  publication_date    360 non-null    object \n",
            " 11  publisher           360 non-null    object \n",
            " 12  parent company      360 non-null    object \n",
            "dtypes: float64(1), int64(5), object(7)\n",
            "memory usage: 39.4+ KB\n",
            "None\n"
          ],
          "name": "stdout"
        },
        {
          "output_type": "stream",
          "text": [
            "/usr/local/lib/python3.6/dist-packages/ipykernel_launcher.py:13: SettingWithCopyWarning: \n",
            "A value is trying to be set on a copy of a slice from a DataFrame.\n",
            "Try using .loc[row_indexer,col_indexer] = value instead\n",
            "\n",
            "See the caveats in the documentation: https://pandas.pydata.org/pandas-docs/stable/user_guide/indexing.html#returning-a-view-versus-a-copy\n",
            "  del sys.path[0]\n",
            "/usr/local/lib/python3.6/dist-packages/ipykernel_launcher.py:25: SettingWithCopyWarning: \n",
            "A value is trying to be set on a copy of a slice from a DataFrame.\n",
            "Try using .loc[row_indexer,col_indexer] = value instead\n",
            "\n",
            "See the caveats in the documentation: https://pandas.pydata.org/pandas-docs/stable/user_guide/indexing.html#returning-a-view-versus-a-copy\n",
            "/usr/local/lib/python3.6/dist-packages/ipykernel_launcher.py:37: SettingWithCopyWarning: \n",
            "A value is trying to be set on a copy of a slice from a DataFrame.\n",
            "Try using .loc[row_indexer,col_indexer] = value instead\n",
            "\n",
            "See the caveats in the documentation: https://pandas.pydata.org/pandas-docs/stable/user_guide/indexing.html#returning-a-view-versus-a-copy\n"
          ],
          "name": "stderr"
        }
      ]
    },
    {
      "cell_type": "code",
      "metadata": {
        "id": "22aQHIIvaXLC",
        "colab_type": "code",
        "colab": {
          "base_uri": "https://localhost:8080/",
          "height": 336
        },
        "outputId": "45488b5a-6b71-4306-d82a-24bbe2d281ff"
      },
      "source": [
        "# Now we will plot the histogram to visualize the data and determine normality of the average ratings\n",
        "\n",
        "plt.hist(PRH['average_rating'], alpha = .5)\n",
        "plt.hist(SAS['average_rating'], alpha = .5)\n",
        "plt.hist(HC['average_rating'], alpha = .5)\n",
        "plt.show()\n",
        "\n",
        "print(stats.describe(PRH['average_rating']))\n",
        "print(stats.describe(SAS['average_rating']))\n",
        "print(stats.describe(HC['average_rating']))"
      ],
      "execution_count": null,
      "outputs": [
        {
          "output_type": "display_data",
          "data": {
            "image/png": "[encoded data removed]",
            "text/plain": [
              "<Figure size 432x288 with 1 Axes>"
            ]
          },
          "metadata": {
            "tags": [],
            "needs_background": "light"
          }
        },
        {
          "output_type": "stream",
          "text": [
            "DescribeResult(nobs=1017, minmax=(2.79, 4.59), mean=3.9067944936086527, variance=0.06435565949720887, skewness=-0.5347657169044121, kurtosis=0.7850177893855728)\n",
            "DescribeResult(nobs=232, minmax=(2.96, 4.49), mean=3.899439655172414, variance=0.06308929504403642, skewness=-0.681042381951772, kurtosis=1.0573731254532417)\n",
            "DescribeResult(nobs=360, minmax=(2.94, 4.59), mean=3.9454722222222225, variance=0.06962094630145466, skewness=-0.4243547960161067, kurtosis=0.1262433523359503)\n"
          ],
          "name": "stdout"
        }
      ]
    },
    {
      "cell_type": "markdown",
      "metadata": {
        "id": "duoK8JlLdgGp",
        "colab_type": "text"
      },
      "source": [
        "Based on visual inspection and the skewness and kurtosis for each data set, it appears that our data is normally distributed.\n",
        "\n",
        "Thus, we will perform a one-way ANOVA test to check for any significant differences in publisher quality.\n",
        "\n",
        "If there is a statitistically significant difference between the three groups, I will also conduct an independent samples t-test between the groups at the two-tail, 95% confidence interval and a Tukey's Honest Significant Differences Test."
      ]
    },
    {
      "cell_type": "code",
      "metadata": {
        "id": "MthZFGniciSW",
        "colab_type": "code",
        "colab": {
          "base_uri": "https://localhost:8080/",
          "height": 34
        },
        "outputId": "1760e23b-3765-44a4-bc63-63525ce01327"
      },
      "source": [
        "# one-way ANOVA test\n",
        "\n",
        "stats.f_oneway(PRH['average_rating'], SAS['average_rating'], HC['average_rating'])"
      ],
      "execution_count": null,
      "outputs": [
        {
          "output_type": "execute_result",
          "data": {
            "text/plain": [
              "F_onewayResult(statistic=3.506668665171931, pvalue=0.030226563863020174)"
            ]
          },
          "metadata": {
            "tags": []
          },
          "execution_count": 7
        }
      ]
    },
    {
      "cell_type": "markdown",
      "metadata": {
        "id": "2zRn9zLkfTzh",
        "colab_type": "text"
      },
      "source": [
        "With a p-value < .5, one of these publishers stands out from the rest. Let's find out which publishing company that is."
      ]
    },
    {
      "cell_type": "code",
      "metadata": {
        "id": "lwLqJC0AeaHW",
        "colab_type": "code",
        "colab": {
          "base_uri": "https://localhost:8080/",
          "height": 68
        },
        "outputId": "49621c27-cc2e-45f3-d6ae-96e36037bb19"
      },
      "source": [
        "# Set of pairwise t-tests comparing each group\n",
        "\n",
        "print(stats.ttest_ind(PRH['average_rating'], SAS['average_rating']))\n",
        "print(stats.ttest_ind(PRH['average_rating'], HC['average_rating']))\n",
        "print(stats.ttest_ind(SAS['average_rating'], HC['average_rating']))"
      ],
      "execution_count": null,
      "outputs": [
        {
          "output_type": "stream",
          "text": [
            "Ttest_indResult(statistic=0.39920502411694386, pvalue=0.6898104972374366)\n",
            "Ttest_indResult(statistic=-2.4599294596750703, pvalue=0.014018739790743225)\n",
            "Ttest_indResult(statistic=-2.1113295540172823, pvalue=0.03516392944184399)\n"
          ],
          "name": "stdout"
        }
      ]
    },
    {
      "cell_type": "code",
      "metadata": {
        "id": "ha005ETzhn8L",
        "colab_type": "code",
        "colab": {
          "base_uri": "https://localhost:8080/",
          "height": 88
        },
        "outputId": "8b82cfc4-dd0f-4771-dcb0-c73eda4f5ea1"
      },
      "source": [
        "# Confidence interval\n",
        "\n",
        "def get_95_ci(array_1, array_2):\n",
        "    sample_1_n = array_1.shape[0]\n",
        "    sample_2_n = array_2.shape[0]\n",
        "    sample_1_mean = array_1.mean()\n",
        "    sample_2_mean = array_2.mean()\n",
        "    sample_1_var = array_1.var()\n",
        "    sample_2_var = array_2.var()\n",
        "    mean_difference = sample_2_mean - sample_1_mean\n",
        "    std_err_difference = math.sqrt((sample_1_var/sample_1_n)+(sample_2_var/sample_2_n))\n",
        "    margin_of_error = 1.96 * std_err_difference\n",
        "    ci_lower = mean_difference - margin_of_error\n",
        "    ci_upper = mean_difference + margin_of_error\n",
        "    return(\"The difference in means at the 95% confidence interval (two-tail) is between \"+str(ci_lower)+\" and \"+str(ci_upper)+\".\")\n",
        "\n",
        "print(get_95_ci(PRH['average_rating'], SAS['average_rating']))\n",
        "print(get_95_ci(PRH['average_rating'], HC['average_rating']))\n",
        "print(get_95_ci(SAS['average_rating'], HC['average_rating']))\n"
      ],
      "execution_count": null,
      "outputs": [
        {
          "output_type": "stream",
          "text": [
            "The difference in means at the 95% confidence interval (two-tail) is between -0.04324031982598684 and 0.028530642953517794.\n",
            "The difference in means at the 95% confidence interval (two-tail) is between 0.007276631148580487 and 0.07007882607856172.\n",
            "The difference in means at the 95% confidence interval (two-tail) is between 0.0037524942038955414 and 0.08831263989571572.\n"
          ],
          "name": "stdout"
        }
      ]
    },
    {
      "cell_type": "code",
      "metadata": {
        "id": "Lsmw54-xmhpa",
        "colab_type": "code",
        "colab": {
          "base_uri": "https://localhost:8080/",
          "height": 120
        },
        "outputId": "96d32ee4-697f-44c0-f5f5-b69768dd2b4b"
      },
      "source": [
        "# Tukey's HSD Test\n",
        "\n",
        "from statsmodels.stats.multicomp import pairwise_tukeyhsd\n",
        "\n",
        "frames = [PRH, SAS, HC]\n",
        "compilation_of_publishers = pd.concat(frames)\n",
        "\n",
        "tukey = pairwise_tukeyhsd(endog = compilation_of_publishers['average_rating'],\n",
        "                          groups = compilation_of_publishers['parent company'],\n",
        "                          alpha=0.05)\n",
        "tukey.summary()"
      ],
      "execution_count": null,
      "outputs": [
        {
          "output_type": "execute_result",
          "data": {
            "text/html": [
              "<table class=\"simpletable\">\n",
              "<caption>Multiple Comparison of Means - Tukey HSD, FWER=0.05</caption>\n",
              "<tr>\n",
              "         <th>group1</th>               <th>group2</th>        <th>meandiff</th>  <th>p-adj</th>  <th>lower</th>   <th>upper</th>  <th>reject</th>\n",
              "</tr>\n",
              "<tr>\n",
              "      <td>HarperCollins</td>    <td>Penguin Random House</td>  <td>-0.0387</td> <td>0.0366</td> <td>-0.0755</td> <td>-0.0019</td>  <td>True</td> \n",
              "</tr>\n",
              "<tr>\n",
              "      <td>HarperCollins</td>      <td>Simon & Schuster</td>    <td>-0.046</td>  <td>0.0826</td> <td>-0.0965</td> <td>0.0045</td>   <td>False</td>\n",
              "</tr>\n",
              "<tr>\n",
              "  <td>Penguin Random House</td>   <td>Simon & Schuster</td>    <td>-0.0074</td>   <td>0.9</td>  <td>-0.051</td>  <td>0.0363</td>   <td>False</td>\n",
              "</tr>\n",
              "</table>"
            ],
            "text/plain": [
              "<class 'statsmodels.iolib.table.SimpleTable'>"
            ]
          },
          "metadata": {
            "tags": []
          },
          "execution_count": 12
        }
      ]
    },
    {
      "cell_type": "markdown",
      "metadata": {
        "id": "u4_gguPwjxeR",
        "colab_type": "text"
      },
      "source": [
        "#Results"
      ]
    },
    {
      "cell_type": "markdown",
      "metadata": {
        "id": "MfCPVywYht61",
        "colab_type": "text"
      },
      "source": [
        "Starting with our visual inspection, the average ratings of each publisher were close enough to a normal distribution that we could proceed with a one-way ANOVA test. Based on the p-value of .03 we can reject the NULL hypothesis that there is no significant difference in average ratings between publishers, since the p-value < .05. Subsequently, we performed another set of pairwise t-tests comparing each group, where we discovered that only HarperCollins publishing differed from the other two publishing parent companies. \n",
        "\n",
        "The 95% confidence interval suggests the following:\n",
        "\n",
        "\n",
        "*   The difference in the average ratings between Penguin Random House and Simon & Schuster is between .04 worse and .07 better.\n",
        "*   On average, Penguin Random House has a lower average book rating than HarperCollins ranging between .007 and .07.\n",
        "*   On average, Simon & Schuster also has a lower average rating than HarperCollins, between .003 and .088.\n",
        "\n",
        "Next, we come to the results of the Tukey's HSD test. With confidence, we can reject the null for HarperCollins and Penguin Random House. There is no significant difference between Simon & Schuster and the other publishers.\n",
        "\n",
        "\n",
        "\n",
        "\n"
      ]
    },
    {
      "cell_type": "markdown",
      "metadata": {
        "id": "TyMYX5RZk84T",
        "colab_type": "text"
      },
      "source": [
        "#Discussion and Recommendation"
      ]
    },
    {
      "cell_type": "markdown",
      "metadata": {
        "id": "WHFKTFVilAY-",
        "colab_type": "text"
      },
      "source": [
        "Based on our results, and specifically the Tukey's HSD test result, we determined that HarperCollins performed, on average, slightly better than Penguin Random House when it came to book quality. For any given book, a Penguin Random House book could have a lower rating than a HarperCollins publication, ranging between .007 and .07. \n",
        "\n",
        "While it appeared that Simon & Schuster performed worse than HarperCollins as well, the differences were not significant enough to reject the NULL. There is also no difference in quality between Penguin Random House and Simon & Schuster books.\n",
        "\n",
        "For a customer looking to buy a book, there is an advantage to shopping with both HarperCollins and Penguin Random House. If you are looking for the guaranteed quality, HarperCollins will be better on average. Howver, as we saw with the data, there are a vast amounts of options to choose from with Penguin Random House publishing. They publish significantly more books than HarperCollins. Simon & Schuster books, as their quality of books ranks similarily to the other publishers, is a safe, if uneventful choice.\n",
        "\n",
        "Similarily, writers would have to weigh their options when courting a publisher. On the one hand, it would be advantageous to favor HarperCollins, as their knack for quality is a draw for any aspiring author.\n",
        "\n",
        "**On what could improve the experiment:**\n",
        "\n",
        "Several subsidiaries of each parent were excluded, so another test could be conducted that was more inclusive of the publisher data. This may have an impact on the results, and would be fairly easy to test for. If I were to collect new data in this domain, I would try to create a new column that contains the publisher's parent company. In this way, I wouldn't have to arbitrarily assign values to new groups and potentially miss any subsidiaries. "
      ]
    },
    {
      "cell_type": "markdown",
      "metadata": {
        "id": "vkqRJVrspt0_",
        "colab_type": "text"
      },
      "source": [
        "#For the powerpoint"
      ]
    },
    {
      "cell_type": "code",
      "metadata": {
        "id": "dWN1Lj4bpvTR",
        "colab_type": "code",
        "colab": {
          "base_uri": "https://localhost:8080/",
          "height": 443
        },
        "outputId": "b453f21b-3b74-4e24-ca6c-1fc033868d89"
      },
      "source": [
        "compilation_of_publishers.boxplot('average_rating', by='parent company', figsize=(10, 6))"
      ],
      "execution_count": null,
      "outputs": [
        {
          "output_type": "execute_result",
          "data": {
            "text/plain": [
              "<matplotlib.axes._subplots.AxesSubplot at 0x7f499e2f2f98>"
            ]
          },
          "metadata": {
            "tags": []
          },
          "execution_count": 18
        },
        {
          "output_type": "display_data",
          "data": {
            "image/png": "[encoded data removed]",
            "text/plain": [
              "<Figure size 720x432 with 1 Axes>"
            ]
          },
          "metadata": {
            "tags": []
          }
        }
      ]
    },
    {
      "cell_type": "code",
      "metadata": {
        "id": "tN-2CrK1ryh2",
        "colab_type": "code",
        "colab": {
          "base_uri": "https://localhost:8080/",
          "height": 394
        },
        "outputId": "dea72349-19bd-4f2e-ccbf-e1b7c11db216"
      },
      "source": [
        "sns.set(style=\"darkgrid\")\n",
        "fig_dims = (10,6)\n",
        "fig, ax = plt.subplots(figsize=fig_dims)\n",
        "ax = sns.pointplot(x=\"parent company\", y=\"average_rating\", ax=ax, data=compilation_of_publishers)"
      ],
      "execution_count": null,
      "outputs": [
        {
          "output_type": "display_data",
          "data": {
            "image/png": "[encoded data removed]",
            "text/plain": [
              "<Figure size 720x432 with 1 Axes>"
            ]
          },
          "metadata": {
            "tags": []
          }
        }
      ]
    },
    {
      "cell_type": "code",
      "metadata": {
        "id": "KfF54eNh5QLa",
        "colab_type": "code",
        "colab": {}
      },
      "source": [
        ""
      ],
      "execution_count": null,
      "outputs": []
    }
  ]
}